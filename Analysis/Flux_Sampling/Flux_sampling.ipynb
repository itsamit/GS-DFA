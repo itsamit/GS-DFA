{
 "cells": [
  {
   "cell_type": "code",
   "execution_count": 1,
   "id": "0aa8ae2e",
   "metadata": {},
   "outputs": [],
   "source": [
    "# import the libraries\n",
    "from cobra.sampling import ACHRSampler\n",
    "from cobra.sampling import OptGPSampler\n",
    "import cobra\n",
    "import matplotlib.pyplot as plt\n",
    "import scipy as sp\n",
    "import numpy as np\n",
    "import pandas as pd\n",
    "from sklearn import decomposition\n",
    "from sklearn import datasets\n",
    "from sklearn.preprocessing import scale\n",
    "from sklearn.linear_model import LinearRegression\n",
    "import statsmodels\n",
    "from scipy.stats import sem, t\n",
    "from scipy import mean\n",
    "from statsmodels.sandbox.stats.multicomp import multipletests\n",
    "import seaborn as sns\n",
    "from scipy.stats import hypergeom"
   ]
  },
  {
   "cell_type": "code",
   "execution_count": 2,
   "id": "ad11e664",
   "metadata": {},
   "outputs": [],
   "source": [
    "# import the models\n",
    "modelCON=cobra.io.load_matlab_model('control.mat')\n",
    "modelT2D_R=cobra.io.load_matlab_model('responder_T2D.mat')\n",
    "modelT2D_NR=cobra.io.load_matlab_model('non_responder_T2D.mat')"
   ]
  },
  {
   "cell_type": "code",
   "execution_count": 3,
   "id": "dd1a398a",
   "metadata": {},
   "outputs": [],
   "source": [
    "# performed flux sampling\n",
    "achr_modelCON = ACHRSampler(modelCON, thinning=100)\n",
    "achr_modelT2D_R= ACHRSampler(modelT2D_R,thinning=100)\n",
    "achr_modelT2D_NR = ACHRSampler(modelT2D_NR, thinning=100)"
   ]
  },
  {
   "cell_type": "code",
   "execution_count": 4,
   "id": "997df545",
   "metadata": {},
   "outputs": [],
   "source": [
    "samples_modelCON=achr_modelCON.sample(10000)\n",
    "samples_modelT2D_R=achr_modelT2D_R.sample(10000)\n",
    "samples_modelT2D_NR=achr_modelT2D_NR.sample(10000)"
   ]
  },
  {
   "cell_type": "code",
   "execution_count": 5,
   "id": "8c4124f2",
   "metadata": {},
   "outputs": [],
   "source": [
    "# save the FS files\n",
    "samples_modelCON.to_csv(\"modelCON.csv\")\n",
    "samples_modelT2D_R.to_csv(\"modelT2D_R.csv\")\n",
    "samples_modelT2D_NR.to_csv(\"modelT2D_NR.csv\")"
   ]
  },
  {
   "cell_type": "code",
   "execution_count": null,
   "id": "83605960",
   "metadata": {},
   "outputs": [],
   "source": []
  }
 ],
 "metadata": {
  "kernelspec": {
   "display_name": "Python 3 (ipykernel)",
   "language": "python",
   "name": "python3"
  },
  "language_info": {
   "codemirror_mode": {
    "name": "ipython",
    "version": 3
   },
   "file_extension": ".py",
   "mimetype": "text/x-python",
   "name": "python",
   "nbconvert_exporter": "python",
   "pygments_lexer": "ipython3",
   "version": "3.11.4"
  }
 },
 "nbformat": 4,
 "nbformat_minor": 5
}
