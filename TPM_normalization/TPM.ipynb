{
 "cells": [
  {
   "cell_type": "code",
   "execution_count": 1,
   "id": "17f0a7a0",
   "metadata": {},
   "outputs": [],
   "source": [
    "import pandas as pd\n",
    "\n",
    "# Load your dataset\n",
    "data = pd.read_csv(\"TPM_Input_File.csv\")"
   ]
  },
  {
   "cell_type": "code",
   "execution_count": 2,
   "id": "038d056f",
   "metadata": {},
   "outputs": [],
   "source": [
    "# Extract gene names, expression values, and gene lengths from the data set\n",
    "gene_names = data.iloc[:, 1]  # Gene names are in the first column\n",
    "expression_values = data.iloc[:, 2:32]  # Expression values for 30 samples are in columns 2 to 31\n",
    "gene_lengths = data.iloc[:, -1]  # Gene lengths are in the last column\n",
    "\n",
    "gene_lengths_kbp = gene_lengths / 1000\n",
    "Read_per_kelobase = (expression_values.div(gene_lengths_kbp, axis=0))\n",
    "Normalization_factor = (Read_per_kelobase.sum(axis=0)/1000000)\n",
    "TPM = (Read_per_kelobase.div(Normalization_factor, axis=1))"
   ]
  },
  {
   "cell_type": "code",
   "execution_count": 4,
   "id": "4ae56259",
   "metadata": {},
   "outputs": [
    {
     "name": "stdout",
     "output_type": "stream",
     "text": [
      "                 genes           s1          s2          s3          s4  \\\n",
      "0      ENSG00000000003     0.075950    0.335976    0.000000    0.035671   \n",
      "1      ENSG00000000419     7.730534    5.794174    3.711867    1.857604   \n",
      "2      ENSG00000000457     4.948188    6.121341    3.309127    1.158509   \n",
      "3      ENSG00000000938   263.219514  359.173902  235.128868   81.122522   \n",
      "4      ENSG00000000971     0.419309    0.414534    0.178639    0.000000   \n",
      "...                ...          ...         ...         ...         ...   \n",
      "12109  ENSG00000291223     1.612548    2.774065    2.367851    0.315566   \n",
      "12110  ENSG00000291230    12.457976   22.000811   58.855789   20.042271   \n",
      "12111  ENSG00000291237  1022.925056  899.530000  470.695730  368.722044   \n",
      "12112  ENSG00000291280     0.281654    1.685672    0.000000    0.420194   \n",
      "12113  ENSG00000291300     3.823332   15.855929    7.202831    1.795690   \n",
      "\n",
      "               s5         s6          s7         s8          s9  ...  \\\n",
      "0        0.000000   0.020585    0.000000   0.326474    0.355404  ...   \n",
      "1        1.194943   1.426996    3.122507   0.000000    3.445184  ...   \n",
      "2        2.925946   0.656471    3.974524   0.000000    3.580976  ...   \n",
      "3      131.924505  22.107128  279.007607  15.221027  327.944853  ...   \n",
      "4        0.052784   0.029273    0.000000   0.000000    0.262607  ...   \n",
      "...           ...        ...         ...        ...         ...  ...   \n",
      "12109    2.195726   3.375056    5.566933   0.505427    1.886448  ...   \n",
      "12110   42.278201  25.057180   53.523851   0.775235   33.064768  ...   \n",
      "12111  183.082632  42.915852  590.505795  43.044896  738.006014  ...   \n",
      "12112    2.615390   0.327805    0.402863   0.008902    0.310112  ...   \n",
      "12113    0.158828   0.051813    1.032976   0.000000   11.181866  ...   \n",
      "\n",
      "              s21         s22         s23          s24          s25  \\\n",
      "0        0.000000    0.000000    0.316800     0.152363     0.077165   \n",
      "1       31.776366    0.961204    7.437647     7.625224     3.409569   \n",
      "2        2.684533    0.139032    7.110069     4.942360     8.615413   \n",
      "3       77.179522  313.082057  379.886171   393.150647   242.534626   \n",
      "4        0.000000    0.000000    1.014568     0.420583     0.086064   \n",
      "...           ...         ...         ...          ...          ...   \n",
      "12109    0.245224    0.069851    1.975141     0.629008     0.182038   \n",
      "12110    0.000000   48.373155   30.057395    25.693004    34.372827   \n",
      "12111  152.202376  544.349522  879.669360  2607.780657  2523.603894   \n",
      "12112    0.000000    0.017224    0.187576     0.432074     0.078553   \n",
      "12113    1.046562    9.241345   32.123101     2.300971     1.424312   \n",
      "\n",
      "               s26         s27          s28         s29         s30  \n",
      "0         0.198939    0.245716     0.084716    0.225992    0.020450  \n",
      "1         3.004803    2.887358     4.010549    1.362821    1.977777  \n",
      "2         3.781888    3.923990     2.809341    1.613831    1.688429  \n",
      "3       308.253418  327.087124   295.163079  267.287830  228.233582  \n",
      "4         0.080432    0.251784     0.127554    0.066164    0.076979  \n",
      "...            ...         ...          ...         ...         ...  \n",
      "12109     2.718086    1.920122     1.473890    0.955192    0.735713  \n",
      "12110    15.286172   36.982917    21.601773   17.585064   11.101671  \n",
      "12111  1427.669874  983.293742  1142.407573  514.861797  422.704680  \n",
      "12112     0.173587    0.629807     8.907313    0.073947    0.013383  \n",
      "12113     5.591458    4.251944    10.341573    3.792137    0.514731  \n",
      "\n",
      "[12114 rows x 31 columns]\n"
     ]
    }
   ],
   "source": [
    "# Add gene names as the first column to the TPM data frame\n",
    "TPM.insert(0, \"genes\", gene_names)\n",
    "\n",
    "# Print the resulting data frame with TPM values\n",
    "print(TPM)"
   ]
  },
  {
   "cell_type": "code",
   "execution_count": 5,
   "id": "66049f8c",
   "metadata": {},
   "outputs": [],
   "source": [
    "TPM.to_csv(\"TPM_normalized_data.csv\")"
   ]
  }
 ],
 "metadata": {
  "kernelspec": {
   "display_name": "Python 3 (ipykernel)",
   "language": "python",
   "name": "python3"
  },
  "language_info": {
   "codemirror_mode": {
    "name": "ipython",
    "version": 3
   },
   "file_extension": ".py",
   "mimetype": "text/x-python",
   "name": "python",
   "nbconvert_exporter": "python",
   "pygments_lexer": "ipython3",
   "version": "3.11.4"
  }
 },
 "nbformat": 4,
 "nbformat_minor": 5
}
